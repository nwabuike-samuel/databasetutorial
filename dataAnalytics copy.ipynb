{
  "cells": [
    {
      "cell_type": "code",
      "execution_count": 4,
      "metadata": {
        "id": "4_5CtiPZlPyL"
      },
      "outputs": [],
      "source": [
        "# import used libraries\n",
        "import pandas as pd\n",
        "import numpy as np\n",
        "import matplotlib.pyplot as plt\n",
        "from sklearn.preprocessing import LabelEncoder, OneHotEncoder, StandardScaler\n",
        "from statsmodels.tsa.arima.model import ARIMA\n",
        "from sklearn.metrics import mean_squared_error\n",
        "from math import sqrt"
      ]
    },
    {
      "cell_type": "code",
      "execution_count": 5,
      "metadata": {
        "colab": {
          "base_uri": "https://localhost:8080/"
        },
        "id": "UozSRX6Ll3Ff",
        "outputId": "b2a47f21-c53e-4998-dcff-b7a39db4281b"
      },
      "outputs": [
        {
          "data": {
            "text/plain": [
              "<bound method NDFrame.head of         id            timestamp  season holiday workingday   \n",
              "0        1  2017-01-01 00:00:00  spring      No         No  \\\n",
              "1        2  2017-01-01 01:00:00  spring      No         No   \n",
              "2        3  2017-01-01 02:00:00  spring      No         No   \n",
              "3        4  2017-01-01 03:00:00  spring      No         No   \n",
              "4        5  2017-01-01 04:00:00  spring      No         No   \n",
              "...    ...                  ...     ...     ...        ...   \n",
              "8703  8704  2018-08-05 00:00:00    fall      No         No   \n",
              "8704  8705  2018-08-05 01:00:00    fall      No         No   \n",
              "8705  8706  2018-08-05 02:00:00    fall      No         No   \n",
              "8706  8707  2018-08-05 03:00:00    fall      No         No   \n",
              "8707  8708  2018-08-05 04:00:00    fall      No         No   \n",
              "\n",
              "                     weather   temp  temp_feel  humidity  windspeed    demand  \n",
              "0     Clear or partly cloudy   9.84     14.395      81.0     0.0000  2.772589  \n",
              "1     Clear or partly cloudy   9.02     13.635      80.0     0.0000  3.688879  \n",
              "2     Clear or partly cloudy   9.02     13.635      80.0     0.0000  3.465736  \n",
              "3     Clear or partly cloudy   9.84     14.395      75.0     0.0000  2.564949  \n",
              "4     Clear or partly cloudy   9.84     14.395      75.0     0.0000  0.000000  \n",
              "...                      ...    ...        ...       ...        ...       ...  \n",
              "8703  Clear or partly cloudy  30.34     34.850      70.0    19.0012  5.030438  \n",
              "8704  Clear or partly cloudy  30.34     34.850      70.0    16.9979  4.465908  \n",
              "8705  Clear or partly cloudy  30.34     34.850      70.0    19.9995  4.290459  \n",
              "8706  Clear or partly cloudy  29.52     34.850      74.0    16.9979  3.713572  \n",
              "8707  Clear or partly cloudy  29.52     34.850      74.0    16.9979  2.639057  \n",
              "\n",
              "[8708 rows x 11 columns]>"
            ]
          },
          "execution_count": 5,
          "metadata": {},
          "output_type": "execute_result"
        }
      ],
      "source": [
        "# Import CarSharing into pandas dataframe\n",
        "df = pd.read_csv('CarSharing.csv')\n",
        "df.head"
      ]
    },
    {
      "cell_type": "code",
      "execution_count": 6,
      "metadata": {
        "colab": {
          "base_uri": "https://localhost:8080/"
        },
        "id": "ysv6JznAmqnr",
        "outputId": "7749139f-8f5b-4c9a-f3c8-105bb261e0cc"
      },
      "outputs": [
        {
          "name": "stdout",
          "output_type": "stream",
          "text": [
            "<class 'pandas.core.frame.DataFrame'>\n",
            "RangeIndex: 8708 entries, 0 to 8707\n",
            "Data columns (total 11 columns):\n",
            " #   Column      Non-Null Count  Dtype  \n",
            "---  ------      --------------  -----  \n",
            " 0   id          8708 non-null   int64  \n",
            " 1   timestamp   8708 non-null   object \n",
            " 2   season      8708 non-null   object \n",
            " 3   holiday     8708 non-null   object \n",
            " 4   workingday  8708 non-null   object \n",
            " 5   weather     8708 non-null   object \n",
            " 6   temp        7506 non-null   float64\n",
            " 7   temp_feel   8606 non-null   float64\n",
            " 8   humidity    8669 non-null   float64\n",
            " 9   windspeed   8508 non-null   float64\n",
            " 10  demand      8708 non-null   float64\n",
            "dtypes: float64(5), int64(1), object(5)\n",
            "memory usage: 748.5+ KB\n"
          ]
        }
      ],
      "source": [
        "df.info()"
      ]
    },
    {
      "cell_type": "code",
      "execution_count": 7,
      "metadata": {
        "colab": {
          "base_uri": "https://localhost:8080/"
        },
        "id": "2PGQifClopii",
        "outputId": "2c88a243-c831-4c2b-f7c5-53d813ed9ec4"
      },
      "outputs": [
        {
          "name": "stdout",
          "output_type": "stream",
          "text": [
            "<class 'pandas.core.frame.DataFrame'>\n",
            "Index: 7185 entries, 0 to 8707\n",
            "Data columns (total 11 columns):\n",
            " #   Column      Non-Null Count  Dtype         \n",
            "---  ------      --------------  -----         \n",
            " 0   id          7185 non-null   int64         \n",
            " 1   timestamp   7185 non-null   datetime64[ns]\n",
            " 2   season      7185 non-null   object        \n",
            " 3   holiday     7185 non-null   object        \n",
            " 4   workingday  7185 non-null   object        \n",
            " 5   weather     7185 non-null   object        \n",
            " 6   temp        7185 non-null   float64       \n",
            " 7   temp_feel   7185 non-null   float64       \n",
            " 8   humidity    7185 non-null   float64       \n",
            " 9   windspeed   7185 non-null   float64       \n",
            " 10  demand      7185 non-null   float64       \n",
            "dtypes: datetime64[ns](1), float64(5), int64(1), object(4)\n",
            "memory usage: 673.6+ KB\n"
          ]
        }
      ],
      "source": [
        "#drop na\n",
        "df.dropna(inplace=True)\n",
        "#drop duplicates\n",
        "df.drop_duplicates(inplace=True)\n",
        "# change timestamp to date type\n",
        "df['timestamp'] = pd.to_datetime(df['timestamp'])\n",
        "df.info()"
      ]
    },
    {
      "cell_type": "code",
      "execution_count": 8,
      "metadata": {
        "colab": {
          "base_uri": "https://localhost:8080/",
          "height": 206
        },
        "id": "4CkOXYOVpmU3",
        "outputId": "fa4ea57d-edf2-4898-da24-d45f4fdc6417"
      },
      "outputs": [
        {
          "data": {
            "text/html": [
              "<div>\n",
              "<style scoped>\n",
              "    .dataframe tbody tr th:only-of-type {\n",
              "        vertical-align: middle;\n",
              "    }\n",
              "\n",
              "    .dataframe tbody tr th {\n",
              "        vertical-align: top;\n",
              "    }\n",
              "\n",
              "    .dataframe thead th {\n",
              "        text-align: right;\n",
              "    }\n",
              "</style>\n",
              "<table border=\"1\" class=\"dataframe\">\n",
              "  <thead>\n",
              "    <tr style=\"text-align: right;\">\n",
              "      <th></th>\n",
              "      <th>id</th>\n",
              "      <th>timestamp</th>\n",
              "      <th>season</th>\n",
              "      <th>holiday</th>\n",
              "      <th>workingday</th>\n",
              "      <th>weather</th>\n",
              "      <th>temp</th>\n",
              "      <th>temp_feel</th>\n",
              "      <th>humidity</th>\n",
              "      <th>windspeed</th>\n",
              "      <th>demand</th>\n",
              "    </tr>\n",
              "  </thead>\n",
              "  <tbody>\n",
              "    <tr>\n",
              "      <th>0</th>\n",
              "      <td>1</td>\n",
              "      <td>2017-01-01 00:00:00</td>\n",
              "      <td>1</td>\n",
              "      <td>0</td>\n",
              "      <td>0</td>\n",
              "      <td>0</td>\n",
              "      <td>9.84</td>\n",
              "      <td>14.395</td>\n",
              "      <td>81.0</td>\n",
              "      <td>0.0</td>\n",
              "      <td>2.772589</td>\n",
              "    </tr>\n",
              "    <tr>\n",
              "      <th>1</th>\n",
              "      <td>2</td>\n",
              "      <td>2017-01-01 01:00:00</td>\n",
              "      <td>1</td>\n",
              "      <td>0</td>\n",
              "      <td>0</td>\n",
              "      <td>0</td>\n",
              "      <td>9.02</td>\n",
              "      <td>13.635</td>\n",
              "      <td>80.0</td>\n",
              "      <td>0.0</td>\n",
              "      <td>3.688879</td>\n",
              "    </tr>\n",
              "    <tr>\n",
              "      <th>2</th>\n",
              "      <td>3</td>\n",
              "      <td>2017-01-01 02:00:00</td>\n",
              "      <td>1</td>\n",
              "      <td>0</td>\n",
              "      <td>0</td>\n",
              "      <td>0</td>\n",
              "      <td>9.02</td>\n",
              "      <td>13.635</td>\n",
              "      <td>80.0</td>\n",
              "      <td>0.0</td>\n",
              "      <td>3.465736</td>\n",
              "    </tr>\n",
              "    <tr>\n",
              "      <th>3</th>\n",
              "      <td>4</td>\n",
              "      <td>2017-01-01 03:00:00</td>\n",
              "      <td>1</td>\n",
              "      <td>0</td>\n",
              "      <td>0</td>\n",
              "      <td>0</td>\n",
              "      <td>9.84</td>\n",
              "      <td>14.395</td>\n",
              "      <td>75.0</td>\n",
              "      <td>0.0</td>\n",
              "      <td>2.564949</td>\n",
              "    </tr>\n",
              "    <tr>\n",
              "      <th>4</th>\n",
              "      <td>5</td>\n",
              "      <td>2017-01-01 04:00:00</td>\n",
              "      <td>1</td>\n",
              "      <td>0</td>\n",
              "      <td>0</td>\n",
              "      <td>0</td>\n",
              "      <td>9.84</td>\n",
              "      <td>14.395</td>\n",
              "      <td>75.0</td>\n",
              "      <td>0.0</td>\n",
              "      <td>0.000000</td>\n",
              "    </tr>\n",
              "  </tbody>\n",
              "</table>\n",
              "</div>"
            ],
            "text/plain": [
              "   id           timestamp  season  holiday  workingday  weather  temp   \n",
              "0   1 2017-01-01 00:00:00       1        0           0        0  9.84  \\\n",
              "1   2 2017-01-01 01:00:00       1        0           0        0  9.02   \n",
              "2   3 2017-01-01 02:00:00       1        0           0        0  9.02   \n",
              "3   4 2017-01-01 03:00:00       1        0           0        0  9.84   \n",
              "4   5 2017-01-01 04:00:00       1        0           0        0  9.84   \n",
              "\n",
              "   temp_feel  humidity  windspeed    demand  \n",
              "0     14.395      81.0        0.0  2.772589  \n",
              "1     13.635      80.0        0.0  3.688879  \n",
              "2     13.635      80.0        0.0  3.465736  \n",
              "3     14.395      75.0        0.0  2.564949  \n",
              "4     14.395      75.0        0.0  0.000000  "
            ]
          },
          "execution_count": 8,
          "metadata": {},
          "output_type": "execute_result"
        }
      ],
      "source": [
        "#Encoding the categorical variables\n",
        "\n",
        "le = LabelEncoder()\n",
        "df['season'] = le.fit_transform(df['season'])\n",
        "df['holiday']=le.fit_transform(df['holiday'])\n",
        "df['workingday'] = le.fit_transform(df['workingday'])\n",
        "df['weather'] = le.fit_transform(df['weather'])\n",
        "\n",
        "df.head()"
      ]
    },
    {
      "cell_type": "code",
      "execution_count": 9,
      "metadata": {
        "colab": {
          "base_uri": "https://localhost:8080/"
        },
        "id": "Bt5b-b5O4ksg",
        "outputId": "37c0c2b7-1803-4e94-8852-013253cf0827"
      },
      "outputs": [
        {
          "name": "stdout",
          "output_type": "stream",
          "text": [
            "<class 'pandas.core.frame.DataFrame'>\n",
            "Index: 7185 entries, 0 to 8707\n",
            "Data columns (total 11 columns):\n",
            " #   Column      Non-Null Count  Dtype         \n",
            "---  ------      --------------  -----         \n",
            " 0   id          7185 non-null   int64         \n",
            " 1   timestamp   7185 non-null   datetime64[ns]\n",
            " 2   season      7185 non-null   int64         \n",
            " 3   holiday     7185 non-null   int64         \n",
            " 4   workingday  7185 non-null   int64         \n",
            " 5   weather     7185 non-null   int64         \n",
            " 6   temp        7185 non-null   float64       \n",
            " 7   temp_feel   7185 non-null   float64       \n",
            " 8   humidity    7185 non-null   float64       \n",
            " 9   windspeed   7185 non-null   float64       \n",
            " 10  demand      7185 non-null   float64       \n",
            "dtypes: datetime64[ns](1), float64(5), int64(5)\n",
            "memory usage: 673.6 KB\n"
          ]
        }
      ],
      "source": [
        "df.info()"
      ]
    },
    {
      "cell_type": "code",
      "execution_count": null,
      "metadata": {
        "id": "8QxU4GpvuBvM"
      },
      "outputs": [],
      "source": [
        "# oe = OneHotEncoder(sparse=False)\n",
        "# df['workingday'] = oe.fit_transform(df['workingday'].values.reshape(-1,1))\n",
        "# df['holiday'] = oe.fit_transform(df['holiday'].values.reshape(-1,1))\n",
        "# df['weather_code'] = oe.fit_transform(df['weather_code'].values.reshape(-1,1))"
      ]
    },
    {
      "attachments": {},
      "cell_type": "markdown",
      "metadata": {
        "id": "A6wOokNJ4rZd"
      },
      "source": [
        "### Question 2"
      ]
    },
    {
      "cell_type": "code",
      "execution_count": 10,
      "metadata": {
        "id": "LtaMvvYt5Q_A"
      },
      "outputs": [],
      "source": [
        "from sklearn.feature_selection import f_regression\n",
        "from sklearn.feature_selection import SelectKBest"
      ]
    },
    {
      "attachments": {},
      "cell_type": "markdown",
      "metadata": {
        "id": "SUAWd2gc5kWR"
      },
      "source": [
        "### Linear Regression"
      ]
    },
    {
      "cell_type": "code",
      "execution_count": 11,
      "metadata": {
        "colab": {
          "base_uri": "https://localhost:8080/"
        },
        "id": "gkdrUgNQAqwf",
        "outputId": "b951545b-935b-4644-f5e0-ded2bc0b3c2d"
      },
      "outputs": [
        {
          "name": "stdout",
          "output_type": "stream",
          "text": [
            "f_value:  [1323.5489844]\n",
            "p_value:  [3.89590721e-266]\n"
          ]
        },
        {
          "name": "stderr",
          "output_type": "stream",
          "text": [
            "/home/codespace/.local/lib/python3.10/site-packages/sklearn/utils/validation.py:1143: DataConversionWarning: A column-vector y was passed when a 1d array was expected. Please change the shape of y to (n_samples, ), for example using ravel().\n",
            "  y = column_or_1d(y, warn=True)\n"
          ]
        }
      ],
      "source": [
        "# temp and demand\n",
        "x = df['temp'].values.reshape(-1, 1)\n",
        "y = df['demand'].values.reshape(-1, 1)\n",
        "f_value, p_value = f_regression(x,y)\n",
        "print(\"f_value: \", f_value)\n",
        "print(\"p_value: \", p_value)"
      ]
    },
    {
      "cell_type": "code",
      "execution_count": 12,
      "metadata": {
        "colab": {
          "base_uri": "https://localhost:8080/"
        },
        "id": "8N4yIUxu4qYP",
        "outputId": "3f00b8c2-0494-40c8-834c-7f866ca848d1"
      },
      "outputs": [
        {
          "name": "stdout",
          "output_type": "stream",
          "text": [
            "f_value:  [903.52539842]\n",
            "p_value:  [4.41226666e-187]\n"
          ]
        },
        {
          "name": "stderr",
          "output_type": "stream",
          "text": [
            "/home/codespace/.local/lib/python3.10/site-packages/sklearn/utils/validation.py:1143: DataConversionWarning: A column-vector y was passed when a 1d array was expected. Please change the shape of y to (n_samples, ), for example using ravel().\n",
            "  y = column_or_1d(y, warn=True)\n"
          ]
        }
      ],
      "source": [
        "# humidity and demand\n",
        "x = df['humidity'].values.reshape(-1, 1)\n",
        "y = df['demand'].values.reshape(-1, 1)\n",
        "f_value, p_value = f_regression(x,y)\n",
        "print(\"f_value: \", f_value)\n",
        "print(\"p_value: \", p_value)"
      ]
    },
    {
      "cell_type": "code",
      "execution_count": 13,
      "metadata": {
        "colab": {
          "base_uri": "https://localhost:8080/"
        },
        "id": "PzH0PF7L5Oyr",
        "outputId": "a44ffe11-c6ef-448f-b151-43813e9860a4"
      },
      "outputs": [
        {
          "name": "stdout",
          "output_type": "stream",
          "text": [
            "f_value:  [115.67371842]\n",
            "p_value:  [8.95316236e-27]\n"
          ]
        },
        {
          "name": "stderr",
          "output_type": "stream",
          "text": [
            "/home/codespace/.local/lib/python3.10/site-packages/sklearn/utils/validation.py:1143: DataConversionWarning: A column-vector y was passed when a 1d array was expected. Please change the shape of y to (n_samples, ), for example using ravel().\n",
            "  y = column_or_1d(y, warn=True)\n"
          ]
        }
      ],
      "source": [
        "# windspeed and demand\n",
        "x = df['windspeed'].values.reshape(-1, 1)\n",
        "y = df['demand'].values.reshape(-1, 1)\n",
        "f_value, p_value = f_regression(x,y)\n",
        "print(\"f_value: \", f_value)\n",
        "print(\"p_value: \", p_value)"
      ]
    },
    {
      "cell_type": "code",
      "execution_count": null,
      "metadata": {
        "id": "LabbLpiT6uN_"
      },
      "outputs": [],
      "source": []
    },
    {
      "cell_type": "markdown",
      "metadata": {
        "id": "jRj9cAlV7P67"
      },
      "source": [
        "### Z test?\n",
        "\n",
        "\n"
      ]
    },
    {
      "cell_type": "code",
      "execution_count": 14,
      "metadata": {
        "colab": {
          "base_uri": "https://localhost:8080/"
        },
        "id": "b5vL2YT67Njy",
        "outputId": "e53f76c0-1599-45d2-ba17-4015705efc17"
      },
      "outputs": [
        {
          "name": "stdout",
          "output_type": "stream",
          "text": [
            "1.9503834865663117 2.3841593576597084\n",
            "F-test: F = 0.818059195707794 p-value = 0.999999981086743\n",
            "t-test: t = 1.771137494767247 p-value = 0.07658023698783106\n"
          ]
        }
      ],
      "source": [
        "# workingday and demand\n",
        "import scipy.stats as stats\n",
        "group0 = df.loc[df['workingday'] == 0, 'demand']\n",
        "group1 = df.loc[df['workingday'] == 1, 'demand']\n",
        "\n",
        "print(np.var(group0, ddof=1), np.var(group1, ddof=1))\n",
        "\n",
        "def f_test(group0, group1):\n",
        "    f = np.var(group0, ddof=1) / np.var(group1, ddof=1)\n",
        "    nun = group0.size - 1\n",
        "    dun = group1.size - 1\n",
        "    p_value = 1 - stats.f.cdf(f, nun, dun)\n",
        "    return f, p_value\n",
        "\n",
        "f, p = f_test(group0, group1)\n",
        "print('F-test: F =', f, 'p-value =', p)\n",
        "\n",
        "t, p = stats.ttest_ind(a=group0, b=group1, equal_var=True)\n",
        "print('t-test: t =', t, 'p-value =', p)"
      ]
    },
    {
      "attachments": {},
      "cell_type": "markdown",
      "metadata": {
        "id": "Yg35Mr1NYA4G"
      },
      "source": [
        "### Question 3"
      ]
    },
    {
      "cell_type": "code",
      "execution_count": null,
      "metadata": {
        "id": "lDPkd0a18_E3"
      },
      "outputs": [],
      "source": [
        "# df = pd.read_csv('D:\\Programming\\OmoT\\CarSharing.csv')\n",
        "# df['timestamp'] = pd.to_datetime(df['timestamp'])\n",
        "# df = df.dropna()\n",
        "\n",
        "# demand_weekly_average = demand.resample('W').mean()\n",
        "# temp_weekly_average = temp.resample('W').mean()\n",
        "\n",
        "# temp_weekly_average.head()\n",
        "\n",
        "# demand_weekly_average.dropna(inplace = True)\n",
        "# temp_weekly_average.dropna(inplace = True)\n",
        "\n",
        "# model = ARIMA(demand_weekly_average, order=(5,1,0))\n",
        "# model_fit = model.fit()\n",
        "# # summary of fit model\n",
        "# print(model_fit.summary())\n",
        "# # line plot of residuals\n",
        "# residuals = DataFrame(model_fit.resid)\n",
        "# residuals.plot()\n",
        "# pyplot.show()\n",
        "# # density plot of residuals\n",
        "# residuals.plot(kind='kde')\n",
        "# pyplot.show()\n",
        "# # summary stats of residuals\n",
        "# print(residuals.describe())\n",
        "\n",
        "# X = demand_weekly_average.values\n",
        "# size = int(len(X) * 0.70)\n",
        "# train, test = X[0:size], X[size:len(X)]\n",
        "# history = [x for x in train]\n",
        "# predictions = list()\n",
        "# # walk-forward validation\n",
        "# for t in range(len(test)):\n",
        "#     model = ARIMA(history, order=(0,0,1))\n",
        "#     model_fit = model.fit()\n",
        "#     output = model_fit.forecast()\n",
        "#     yhat = output[0]\n",
        "#     predictions.append(yhat)\n",
        "#     obs = test[t]\n",
        "#     history.append(obs)\n",
        "#     print('predicted=%f, expected=%f' % (yhat, obs))\n",
        "# # evaluate forecasts\n",
        "# rmse = sqrt(mean_squared_error(test, predictions))\n",
        "# print('Test RMSE: %.3f' % rmse)\n",
        "# # plot forecasts against actual outcomes\n",
        "# pyplot.plot(test)\n",
        "# pyplot.plot(predictions, color='red')\n",
        "# pyplot.show()"
      ]
    },
    {
      "cell_type": "code",
      "execution_count": 15,
      "metadata": {
        "colab": {
          "base_uri": "https://localhost:8080/",
          "height": 673
        },
        "id": "svX7kE62E00j",
        "outputId": "05a9f083-7b89-4f47-e114-d7240d67ddd8"
      },
      "outputs": [
        {
          "name": "stdout",
          "output_type": "stream",
          "text": [
            "predicted=22.372055, expected=24.215448\n",
            "predicted=22.644530, expected=21.652432\n",
            "predicted=19.924292, expected=16.933000\n",
            "predicted=17.866905, expected=19.147612\n",
            "predicted=21.962944, expected=22.670226\n",
            "predicted=21.460333, expected=21.719487\n",
            "predicted=21.051759, expected=15.799794\n",
            "predicted=15.554438, expected=15.268759\n",
            "predicted=20.243948, expected=17.143309\n",
            "predicted=17.414818, expected=12.657097\n",
            "predicted=15.602791, expected=14.221314\n",
            "predicted=18.752492, expected=12.282797\n",
            "predicted=13.598668, expected=10.660000\n",
            "Test RMSE: 3.136063\n"
          ]
        },
        {
          "data": {
            "image/png": "[encoded data removed]",
            "text/plain": [
              "<Figure size 640x480 with 1 Axes>"
            ]
          },
          "metadata": {},
          "output_type": "display_data"
        }
      ],
      "source": [
        "timestamp = df[df['timestamp'].dt.year == 2017]['timestamp']\n",
        "temp = df[df['timestamp'].dt.year == 2017]['temp']\n",
        "temp.index = timestamp\n",
        "temp_weekly_average = temp.resample('W').mean()\n",
        "temp_weekly_average.dropna(inplace = True)\n",
        "\n",
        "# Split training and test sets\n",
        "train_size = int(len(temp_weekly_average) * 0.7)\n",
        "train, test = temp_weekly_average.iloc[:train_size], temp_weekly_average.iloc[train_size:]\n",
        "\n",
        "history = [x for x in train]\n",
        "predictions = list()\n",
        "# walk-forward validation\n",
        "for t in range(len(test)):\n",
        "    model = ARIMA(history, order=(0,0,1))\n",
        "    model_fit = model.fit()\n",
        "    output = model_fit.forecast()\n",
        "    yhat = output[0]\n",
        "    predictions.append(yhat)\n",
        "    obs = test[t]\n",
        "    history.append(obs)\n",
        "    print('predicted=%f, expected=%f' % (yhat, obs))\n",
        "\n",
        "# # Fit ARIMA model to training data\n",
        "# model = ARIMA(train, order=(5, 1, 0))\n",
        "# model.fit = model.fit()\n",
        "\n",
        "# # Predict\n",
        "# pred = model.fit.forecast(steps=len(test))[0]\n",
        "\n",
        "# Calculate RMSE\n",
        "rmse = sqrt(mean_squared_error(test, predictions))\n",
        "print('Test RMSE: %3f' % rmse)\n",
        "\n",
        "# Plot actual and predicted values\n",
        "plt.plot(test.index, test.values, label='Actual')\n",
        "plt.plot(test.index, predictions, color='red', label='Predicted')\n",
        "plt.legend()\n",
        "plt.show()"
      ]
    },
    {
      "cell_type": "markdown",
      "metadata": {
        "id": "cE-0M7uFYFKy"
      },
      "source": [
        "### Question 4"
      ]
    },
    {
      "cell_type": "code",
      "execution_count": 16,
      "metadata": {
        "id": "9ZWkhacrH2t3"
      },
      "outputs": [],
      "source": [
        "from sklearn.model_selection import train_test_split\n",
        "from sklearn.ensemble import RandomForestClassifier\n",
        "from sklearn.svm import SVC\n",
        "from sklearn.ensemble import GradientBoostingClassifier\n",
        "from sklearn.metrics import accuracy_score"
      ]
    },
    {
      "cell_type": "code",
      "execution_count": 17,
      "metadata": {
        "id": "SBX6nYV0Y3o6"
      },
      "outputs": [],
      "source": [
        "#  Filter the dataset to include only the data for the year 2017\n",
        "df_2017 = df[df['timestamp'].dt.year == 2017]\n",
        "\n",
        "# Split the dataset into training and test sets\n",
        "X = df_2017[['temp', 'humidity', 'windspeed', 'season']]\n",
        "y = df_2017['weather']\n",
        "X_train, X_test, y_train, y_test = train_test_split(X, y, test_size=0.3, random_state=42)\n",
        "\n",
        "num_cols = ['temp', 'humidity', 'windspeed']\n",
        "cat_cols = ['season']\n",
        "\n",
        "scaler = StandardScaler()\n",
        "X_train[num_cols] = scaler.fit_transform(X_train[num_cols])\n",
        "X_test[num_cols] = scaler.transform(X_test[num_cols])\n",
        "\n",
        "X_train_final = pd.concat([X_train[cat_cols], X_train[num_cols]], axis=1)\n",
        "X_test_final = pd.concat([X_test[cat_cols], X_test[num_cols]], axis=1)"
      ]
    },
    {
      "attachments": {},
      "cell_type": "markdown",
      "metadata": {
        "id": "b8MbB6rDdTli"
      },
      "source": [
        "#### Using Random Forest Classifier"
      ]
    },
    {
      "cell_type": "code",
      "execution_count": 18,
      "metadata": {
        "id": "ffGzGpt2dMib"
      },
      "outputs": [],
      "source": [
        "rfc = RandomForestClassifier()\n",
        "rfc.fit(X_train_final, y_train)\n",
        "y_pred = rfc.predict(X_test_final)\n",
        "rfc_accuracy = accuracy_score(y_test, y_pred)"
      ]
    },
    {
      "attachments": {},
      "cell_type": "markdown",
      "metadata": {
        "id": "VLzh8pv1dY-T"
      },
      "source": [
        "#### Using Support Vector MAchines"
      ]
    },
    {
      "cell_type": "code",
      "execution_count": 19,
      "metadata": {
        "id": "uz_34CbSddrb"
      },
      "outputs": [],
      "source": [
        "svc = SVC()\n",
        "svc.fit(X_train_final, y_train)\n",
        "y_pred = svc.predict(X_test_final)\n",
        "svc_accuracy = accuracy_score(y_test, y_pred)"
      ]
    },
    {
      "attachments": {},
      "cell_type": "markdown",
      "metadata": {
        "id": "SX4g1QHUdkQT"
      },
      "source": [
        "#### Using Gradient Boosting Classifier\n"
      ]
    },
    {
      "cell_type": "code",
      "execution_count": 20,
      "metadata": {
        "id": "_bLaLlbJdpKY"
      },
      "outputs": [],
      "source": [
        "gbc = GradientBoostingClassifier()\n",
        "gbc.fit(X_train_final, y_train)\n",
        "y_pred = gbc.predict(X_test_final)\n",
        "gbc_accuracy = accuracy_score(y_test, y_pred)"
      ]
    },
    {
      "cell_type": "markdown",
      "metadata": {
        "id": "cHgItgTqdwDv"
      },
      "source": [
        "#### Models Accuracy"
      ]
    },
    {
      "cell_type": "code",
      "execution_count": 21,
      "metadata": {
        "colab": {
          "base_uri": "https://localhost:8080/"
        },
        "id": "aRiL45hCdsVC",
        "outputId": "24651e18-1d0f-43ef-be57-4404ccc342ee"
      },
      "outputs": [
        {
          "name": "stdout",
          "output_type": "stream",
          "text": [
            "Random Forest Classifier Accuracy:  0.7085201793721974\n",
            "Support Vector Machines Accuracy:  0.6965620328849028\n",
            "Gradient Boosting Classifier Accuracy:  0.7152466367713004\n"
          ]
        }
      ],
      "source": [
        "print(\"Random Forest Classifier Accuracy: \", rfc_accuracy)\n",
        "print(\"Support Vector Machines Accuracy: \", svc_accuracy)\n",
        "print(\"Gradient Boosting Classifier Accuracy: \", gbc_accuracy)"
      ]
    },
    {
      "attachments": {},
      "cell_type": "markdown",
      "metadata": {
        "id": "PIS9sUSYeInf"
      },
      "source": [
        "### Question 5"
      ]
    },
    {
      "cell_type": "code",
      "execution_count": 22,
      "metadata": {
        "id": "5Gp5B2L5gPCx"
      },
      "outputs": [],
      "source": [
        "from sklearn.neural_network import MLPRegressor\n",
        "from sklearn.model_selection import GridSearchCV\n",
        "from sklearn.ensemble import RandomForestRegressor"
      ]
    },
    {
      "cell_type": "code",
      "execution_count": 23,
      "metadata": {
        "colab": {
          "base_uri": "https://localhost:8080/"
        },
        "id": "5wYUy_8mi4qa",
        "outputId": "41217112-70f4-4051-9c4d-dc2b3b311fa5"
      },
      "outputs": [
        {
          "name": "stdout",
          "output_type": "stream",
          "text": [
            "<class 'pandas.core.frame.DataFrame'>\n",
            "Index: 4457 entries, 0 to 5421\n",
            "Data columns (total 4 columns):\n",
            " #   Column     Non-Null Count  Dtype  \n",
            "---  ------     --------------  -----  \n",
            " 0   temp       4457 non-null   float64\n",
            " 1   humidity   4457 non-null   float64\n",
            " 2   windspeed  4457 non-null   float64\n",
            " 3   season     4457 non-null   int64  \n",
            "dtypes: float64(3), int64(1)\n",
            "memory usage: 174.1 KB\n"
          ]
        }
      ],
      "source": [
        "X.info()"
      ]
    },
    {
      "cell_type": "code",
      "execution_count": 24,
      "metadata": {
        "id": "oEgVkAv5jKV-"
      },
      "outputs": [],
      "source": [
        "X = df_2017[['temp', 'humidity', 'windspeed', 'season']]\n",
        "y = df_2017['demand']\n",
        "X_train, X_test, y_train, y_test = train_test_split(X, y, test_size=0.3, random_state=42)\n",
        "\n",
        "num_cols = ['temp', 'humidity', 'windspeed']\n",
        "cat_cols = ['season']\n",
        "\n",
        "scaler = StandardScaler()\n",
        "X_train[num_cols] = scaler.fit_transform(X_train[num_cols])\n",
        "X_test[num_cols] = scaler.transform(X_test[num_cols])\n",
        "\n",
        "X_train_final = pd.concat([X_train[cat_cols], X_train[num_cols]], axis=1)\n",
        "X_test_final = pd.concat([X_test[cat_cols], X_test[num_cols]], axis=1)"
      ]
    },
    {
      "cell_type": "code",
      "execution_count": 25,
      "metadata": {
        "id": "xg0YYFC1aXlc"
      },
      "outputs": [],
      "source": [
        "mlp = MLPRegressor(max_iter=1000)\n",
        "\n",
        "parameters = {\n",
        "    'hidden_layer_sizes': [(10,), (20,), (30,), (40,), (50,), (60,)],\n",
        "    'activation': ['relu', 'tanh'],\n",
        "}"
      ]
    },
    {
      "cell_type": "code",
      "execution_count": 26,
      "metadata": {
        "colab": {
          "base_uri": "https://localhost:8080/",
          "height": 1000
        },
        "id": "1vtHG0P2iHtu",
        "outputId": "b3c5b8e6-c587-4641-fd36-623bd796120f"
      },
      "outputs": [
        {
          "name": "stdout",
          "output_type": "stream",
          "text": [
            "Fitting 5 folds for each of 12 candidates, totalling 60 fits\n",
            "[CV 1/5] END activation=relu, hidden_layer_sizes=(10,);, score=0.264 total time=   1.1s\n",
            "[CV 2/5] END activation=relu, hidden_layer_sizes=(10,);, score=0.304 total time=   1.4s\n",
            "[CV 3/5] END activation=relu, hidden_layer_sizes=(10,);, score=0.306 total time=   1.3s\n",
            "[CV 4/5] END activation=relu, hidden_layer_sizes=(10,);, score=0.299 total time=   1.0s\n",
            "[CV 5/5] END activation=relu, hidden_layer_sizes=(10,);, score=0.300 total time=   1.2s\n",
            "[CV 1/5] END activation=relu, hidden_layer_sizes=(20,);, score=0.270 total time=   1.6s\n",
            "[CV 2/5] END activation=relu, hidden_layer_sizes=(20,);, score=0.306 total time=   1.0s\n",
            "[CV 3/5] END activation=relu, hidden_layer_sizes=(20,);, score=0.315 total time=   1.3s\n",
            "[CV 4/5] END activation=relu, hidden_layer_sizes=(20,);, score=0.311 total time=   1.4s\n",
            "[CV 5/5] END activation=relu, hidden_layer_sizes=(20,);, score=0.290 total time=   1.6s\n",
            "[CV 1/5] END activation=relu, hidden_layer_sizes=(30,);, score=0.279 total time=   1.7s\n",
            "[CV 2/5] END activation=relu, hidden_layer_sizes=(30,);, score=0.314 total time=   1.9s\n",
            "[CV 3/5] END activation=relu, hidden_layer_sizes=(30,);, score=0.305 total time=   1.7s\n",
            "[CV 4/5] END activation=relu, hidden_layer_sizes=(30,);, score=0.304 total time=   0.9s\n",
            "[CV 5/5] END activation=relu, hidden_layer_sizes=(30,);, score=0.311 total time=   1.3s\n",
            "[CV 1/5] END activation=relu, hidden_layer_sizes=(40,);, score=0.284 total time=   1.5s\n",
            "[CV 2/5] END activation=relu, hidden_layer_sizes=(40,);, score=0.310 total time=   1.9s\n",
            "[CV 3/5] END activation=relu, hidden_layer_sizes=(40,);, score=0.329 total time=   1.8s\n",
            "[CV 4/5] END activation=relu, hidden_layer_sizes=(40,);, score=0.306 total time=   1.2s\n",
            "[CV 5/5] END activation=relu, hidden_layer_sizes=(40,);, score=0.300 total time=   1.6s\n",
            "[CV 1/5] END activation=relu, hidden_layer_sizes=(50,);, score=0.275 total time=   2.9s\n",
            "[CV 2/5] END activation=relu, hidden_layer_sizes=(50,);, score=0.312 total time=   2.8s\n",
            "[CV 3/5] END activation=relu, hidden_layer_sizes=(50,);, score=0.339 total time=   4.6s\n",
            "[CV 4/5] END activation=relu, hidden_layer_sizes=(50,);, score=0.309 total time=   2.3s\n",
            "[CV 5/5] END activation=relu, hidden_layer_sizes=(50,);, score=0.311 total time=   3.7s\n",
            "[CV 1/5] END activation=relu, hidden_layer_sizes=(60,);, score=0.285 total time=   2.6s\n",
            "[CV 2/5] END activation=relu, hidden_layer_sizes=(60,);, score=0.317 total time=   2.9s\n",
            "[CV 3/5] END activation=relu, hidden_layer_sizes=(60,);, score=0.337 total time=   3.9s\n",
            "[CV 4/5] END activation=relu, hidden_layer_sizes=(60,);, score=0.313 total time=   4.9s\n",
            "[CV 5/5] END activation=relu, hidden_layer_sizes=(60,);, score=0.302 total time=   3.0s\n",
            "[CV 1/5] END activation=tanh, hidden_layer_sizes=(10,);, score=0.269 total time=   1.6s\n",
            "[CV 2/5] END activation=tanh, hidden_layer_sizes=(10,);, score=0.301 total time=   1.7s\n",
            "[CV 3/5] END activation=tanh, hidden_layer_sizes=(10,);, score=0.299 total time=   1.8s\n",
            "[CV 4/5] END activation=tanh, hidden_layer_sizes=(10,);, score=0.294 total time=   0.9s\n",
            "[CV 5/5] END activation=tanh, hidden_layer_sizes=(10,);, score=0.290 total time=   1.6s\n",
            "[CV 1/5] END activation=tanh, hidden_layer_sizes=(20,);, score=0.262 total time=   1.1s\n",
            "[CV 2/5] END activation=tanh, hidden_layer_sizes=(20,);, score=0.311 total time=   1.6s\n",
            "[CV 3/5] END activation=tanh, hidden_layer_sizes=(20,);, score=0.321 total time=   1.8s\n",
            "[CV 4/5] END activation=tanh, hidden_layer_sizes=(20,);, score=0.297 total time=   1.7s\n",
            "[CV 5/5] END activation=tanh, hidden_layer_sizes=(20,);, score=0.304 total time=   1.8s\n",
            "[CV 1/5] END activation=tanh, hidden_layer_sizes=(30,);, score=0.279 total time=   2.1s\n",
            "[CV 2/5] END activation=tanh, hidden_layer_sizes=(30,);, score=0.314 total time=   1.9s\n",
            "[CV 3/5] END activation=tanh, hidden_layer_sizes=(30,);, score=0.331 total time=   1.6s\n",
            "[CV 4/5] END activation=tanh, hidden_layer_sizes=(30,);, score=0.303 total time=   1.6s\n",
            "[CV 5/5] END activation=tanh, hidden_layer_sizes=(30,);, score=0.302 total time=   1.4s\n",
            "[CV 1/5] END activation=tanh, hidden_layer_sizes=(40,);, score=0.270 total time=   1.3s\n",
            "[CV 2/5] END activation=tanh, hidden_layer_sizes=(40,);, score=0.322 total time=   1.8s\n",
            "[CV 3/5] END activation=tanh, hidden_layer_sizes=(40,);, score=0.325 total time=   2.3s\n",
            "[CV 4/5] END activation=tanh, hidden_layer_sizes=(40,);, score=0.304 total time=   1.8s\n",
            "[CV 5/5] END activation=tanh, hidden_layer_sizes=(40,);, score=0.296 total time=   1.0s\n",
            "[CV 1/5] END activation=tanh, hidden_layer_sizes=(50,);, score=0.278 total time=   3.6s\n",
            "[CV 2/5] END activation=tanh, hidden_layer_sizes=(50,);, score=0.317 total time=   4.1s\n",
            "[CV 3/5] END activation=tanh, hidden_layer_sizes=(50,);, score=0.323 total time=   3.1s\n",
            "[CV 4/5] END activation=tanh, hidden_layer_sizes=(50,);, score=0.298 total time=   2.3s\n",
            "[CV 5/5] END activation=tanh, hidden_layer_sizes=(50,);, score=0.290 total time=   2.5s\n",
            "[CV 1/5] END activation=tanh, hidden_layer_sizes=(60,);, score=0.269 total time=   2.8s\n",
            "[CV 2/5] END activation=tanh, hidden_layer_sizes=(60,);, score=0.314 total time=   2.3s\n",
            "[CV 3/5] END activation=tanh, hidden_layer_sizes=(60,);, score=0.317 total time=   2.3s\n",
            "[CV 4/5] END activation=tanh, hidden_layer_sizes=(60,);, score=0.301 total time=   3.3s\n",
            "[CV 5/5] END activation=tanh, hidden_layer_sizes=(60,);, score=0.291 total time=   2.1s\n"
          ]
        },
        {
          "data": {
            "text/html": [
              "<style>#sk-container-id-1 {color: black;background-color: white;}#sk-container-id-1 pre{padding: 0;}#sk-container-id-1 div.sk-toggleable {background-color: white;}#sk-container-id-1 label.sk-toggleable__label {cursor: pointer;display: block;width: 100%;margin-bottom: 0;padding: 0.3em;box-sizing: border-box;text-align: center;}#sk-container-id-1 label.sk-toggleable__label-arrow:before {content: \"▸\";float: left;margin-right: 0.25em;color: #696969;}#sk-container-id-1 label.sk-toggleable__label-arrow:hover:before {color: black;}#sk-container-id-1 div.sk-estimator:hover label.sk-toggleable__label-arrow:before {color: black;}#sk-container-id-1 div.sk-toggleable__content {max-height: 0;max-width: 0;overflow: hidden;text-align: left;background-color: #f0f8ff;}#sk-container-id-1 div.sk-toggleable__content pre {margin: 0.2em;color: black;border-radius: 0.25em;background-color: #f0f8ff;}#sk-container-id-1 input.sk-toggleable__control:checked~div.sk-toggleable__content {max-height: 200px;max-width: 100%;overflow: auto;}#sk-container-id-1 input.sk-toggleable__control:checked~label.sk-toggleable__label-arrow:before {content: \"▾\";}#sk-container-id-1 div.sk-estimator input.sk-toggleable__control:checked~label.sk-toggleable__label {background-color: #d4ebff;}#sk-container-id-1 div.sk-label input.sk-toggleable__control:checked~label.sk-toggleable__label {background-color: #d4ebff;}#sk-container-id-1 input.sk-hidden--visually {border: 0;clip: rect(1px 1px 1px 1px);clip: rect(1px, 1px, 1px, 1px);height: 1px;margin: -1px;overflow: hidden;padding: 0;position: absolute;width: 1px;}#sk-container-id-1 div.sk-estimator {font-family: monospace;background-color: #f0f8ff;border: 1px dotted black;border-radius: 0.25em;box-sizing: border-box;margin-bottom: 0.5em;}#sk-container-id-1 div.sk-estimator:hover {background-color: #d4ebff;}#sk-container-id-1 div.sk-parallel-item::after {content: \"\";width: 100%;border-bottom: 1px solid gray;flex-grow: 1;}#sk-container-id-1 div.sk-label:hover label.sk-toggleable__label {background-color: #d4ebff;}#sk-container-id-1 div.sk-serial::before {content: \"\";position: absolute;border-left: 1px solid gray;box-sizing: border-box;top: 0;bottom: 0;left: 50%;z-index: 0;}#sk-container-id-1 div.sk-serial {display: flex;flex-direction: column;align-items: center;background-color: white;padding-right: 0.2em;padding-left: 0.2em;position: relative;}#sk-container-id-1 div.sk-item {position: relative;z-index: 1;}#sk-container-id-1 div.sk-parallel {display: flex;align-items: stretch;justify-content: center;background-color: white;position: relative;}#sk-container-id-1 div.sk-item::before, #sk-container-id-1 div.sk-parallel-item::before {content: \"\";position: absolute;border-left: 1px solid gray;box-sizing: border-box;top: 0;bottom: 0;left: 50%;z-index: -1;}#sk-container-id-1 div.sk-parallel-item {display: flex;flex-direction: column;z-index: 1;position: relative;background-color: white;}#sk-container-id-1 div.sk-parallel-item:first-child::after {align-self: flex-end;width: 50%;}#sk-container-id-1 div.sk-parallel-item:last-child::after {align-self: flex-start;width: 50%;}#sk-container-id-1 div.sk-parallel-item:only-child::after {width: 0;}#sk-container-id-1 div.sk-dashed-wrapped {border: 1px dashed gray;margin: 0 0.4em 0.5em 0.4em;box-sizing: border-box;padding-bottom: 0.4em;background-color: white;}#sk-container-id-1 div.sk-label label {font-family: monospace;font-weight: bold;display: inline-block;line-height: 1.2em;}#sk-container-id-1 div.sk-label-container {text-align: center;}#sk-container-id-1 div.sk-container {/* jupyter's `normalize.less` sets `[hidden] { display: none; }` but bootstrap.min.css set `[hidden] { display: none !important; }` so we also need the `!important` here to be able to override the default hidden behavior on the sphinx rendered scikit-learn.org. See: https://github.com/scikit-learn/scikit-learn/issues/21755 */display: inline-block !important;position: relative;}#sk-container-id-1 div.sk-text-repr-fallback {display: none;}</style><div id=\"sk-container-id-1\" class=\"sk-top-container\"><div class=\"sk-text-repr-fallback\"><pre>GridSearchCV(cv=5, estimator=MLPRegressor(max_iter=1000),\n",
              "             param_grid={&#x27;activation&#x27;: [&#x27;relu&#x27;, &#x27;tanh&#x27;],\n",
              "                         &#x27;hidden_layer_sizes&#x27;: [(10,), (20,), (30,), (40,),\n",
              "                                                (50,), (60,)]},\n",
              "             verbose=3)</pre><b>In a Jupyter environment, please rerun this cell to show the HTML representation or trust the notebook. <br />On GitHub, the HTML representation is unable to render, please try loading this page with nbviewer.org.</b></div><div class=\"sk-container\" hidden><div class=\"sk-item sk-dashed-wrapped\"><div class=\"sk-label-container\"><div class=\"sk-label sk-toggleable\"><input class=\"sk-toggleable__control sk-hidden--visually\" id=\"sk-estimator-id-1\" type=\"checkbox\" ><label for=\"sk-estimator-id-1\" class=\"sk-toggleable__label sk-toggleable__label-arrow\">GridSearchCV</label><div class=\"sk-toggleable__content\"><pre>GridSearchCV(cv=5, estimator=MLPRegressor(max_iter=1000),\n",
              "             param_grid={&#x27;activation&#x27;: [&#x27;relu&#x27;, &#x27;tanh&#x27;],\n",
              "                         &#x27;hidden_layer_sizes&#x27;: [(10,), (20,), (30,), (40,),\n",
              "                                                (50,), (60,)]},\n",
              "             verbose=3)</pre></div></div></div><div class=\"sk-parallel\"><div class=\"sk-parallel-item\"><div class=\"sk-item\"><div class=\"sk-label-container\"><div class=\"sk-label sk-toggleable\"><input class=\"sk-toggleable__control sk-hidden--visually\" id=\"sk-estimator-id-2\" type=\"checkbox\" ><label for=\"sk-estimator-id-2\" class=\"sk-toggleable__label sk-toggleable__label-arrow\">estimator: MLPRegressor</label><div class=\"sk-toggleable__content\"><pre>MLPRegressor(max_iter=1000)</pre></div></div></div><div class=\"sk-serial\"><div class=\"sk-item\"><div class=\"sk-estimator sk-toggleable\"><input class=\"sk-toggleable__control sk-hidden--visually\" id=\"sk-estimator-id-3\" type=\"checkbox\" ><label for=\"sk-estimator-id-3\" class=\"sk-toggleable__label sk-toggleable__label-arrow\">MLPRegressor</label><div class=\"sk-toggleable__content\"><pre>MLPRegressor(max_iter=1000)</pre></div></div></div></div></div></div></div></div></div></div>"
            ],
            "text/plain": [
              "GridSearchCV(cv=5, estimator=MLPRegressor(max_iter=1000),\n",
              "             param_grid={'activation': ['relu', 'tanh'],\n",
              "                         'hidden_layer_sizes': [(10,), (20,), (30,), (40,),\n",
              "                                                (50,), (60,)]},\n",
              "             verbose=3)"
            ]
          },
          "execution_count": 26,
          "metadata": {},
          "output_type": "execute_result"
        }
      ],
      "source": [
        "clf = GridSearchCV(mlp, parameters, cv=5, verbose=3)\n",
        "clf.fit(X_train, y_train)"
      ]
    },
    {
      "cell_type": "code",
      "execution_count": 27,
      "metadata": {
        "id": "wc66v9dWkKjN"
      },
      "outputs": [],
      "source": [
        "# Train and evaluate the deep neural network model with the best hyperparameters\n",
        "mlp_best = MLPRegressor(max_iter=1000, **clf.best_params_)\n",
        "mlp_best.fit(X_train, y_train)\n",
        "y_pred_mlp = mlp_best.predict(X_test)\n",
        "mlp_mse = mean_squared_error(y_test, y_pred_mlp)"
      ]
    },
    {
      "cell_type": "code",
      "execution_count": 28,
      "metadata": {
        "id": "EskcvIb7lExK"
      },
      "outputs": [],
      "source": [
        "# Train and evaluate the random forest regressor model\n",
        "rf = RandomForestRegressor(n_estimators=100)\n",
        "rf.fit(X_train, y_train)\n",
        "y_pred_rf = rf.predict(X_test)\n",
        "rf_mse = mean_squared_error(y_test, y_pred_rf)"
      ]
    },
    {
      "cell_type": "code",
      "execution_count": 29,
      "metadata": {
        "colab": {
          "base_uri": "https://localhost:8080/"
        },
        "id": "une9UZ2hlIQm",
        "outputId": "817cde5c-6ec8-4e6c-8281-fd8c12410b74"
      },
      "outputs": [
        {
          "name": "stdout",
          "output_type": "stream",
          "text": [
            "Minimum Mean Squared Error (Deep Neural Network):  1.5131918675348621\n",
            "Minimum Mean Squared Error (Random Forest Regressor):  1.6721732764962365\n"
          ]
        }
      ],
      "source": [
        "print(\"Minimum Mean Squared Error (Deep Neural Network): \", mlp_mse)\n",
        "print(\"Minimum Mean Squared Error (Random Forest Regressor): \", rf_mse)"
      ]
    },
    {
      "cell_type": "markdown",
      "metadata": {
        "id": "8D3Ps67jlUIl"
      },
      "source": [
        "The model with the lower mean squared error is working better."
      ]
    },
    {
      "attachments": {},
      "cell_type": "markdown",
      "metadata": {
        "id": "GFK8j5DVlW-f"
      },
      "source": [
        "### Question 6"
      ]
    },
    {
      "cell_type": "code",
      "execution_count": 30,
      "metadata": {
        "id": "fEVXe53NlOHn"
      },
      "outputs": [],
      "source": [
        "from sklearn.cluster import KMeans"
      ]
    },
    {
      "cell_type": "code",
      "execution_count": 31,
      "metadata": {
        "id": "daJ6A7ZWlkD8"
      },
      "outputs": [],
      "source": [
        "X = df_2017[['humidity']]"
      ]
    },
    {
      "attachments": {},
      "cell_type": "markdown",
      "metadata": {
        "id": "iICfe474l1_E"
      },
      "source": [
        "#### Use Elbow Method to find the appropriate number of clusters"
      ]
    },
    {
      "cell_type": "code",
      "execution_count": 32,
      "metadata": {
        "colab": {
          "base_uri": "https://localhost:8080/",
          "height": 839
        },
        "id": "SCcfTt3Xl1UJ",
        "outputId": "fc120aa6-f967-4cb7-d81b-e0de59ec907b"
      },
      "outputs": [
        {
          "name": "stderr",
          "output_type": "stream",
          "text": [
            "/home/codespace/.local/lib/python3.10/site-packages/sklearn/cluster/_kmeans.py:870: FutureWarning: The default value of `n_init` will change from 10 to 'auto' in 1.4. Set the value of `n_init` explicitly to suppress the warning\n",
            "  warnings.warn(\n",
            "/home/codespace/.local/lib/python3.10/site-packages/sklearn/cluster/_kmeans.py:870: FutureWarning: The default value of `n_init` will change from 10 to 'auto' in 1.4. Set the value of `n_init` explicitly to suppress the warning\n",
            "  warnings.warn(\n",
            "/home/codespace/.local/lib/python3.10/site-packages/sklearn/cluster/_kmeans.py:870: FutureWarning: The default value of `n_init` will change from 10 to 'auto' in 1.4. Set the value of `n_init` explicitly to suppress the warning\n",
            "  warnings.warn(\n",
            "/home/codespace/.local/lib/python3.10/site-packages/sklearn/cluster/_kmeans.py:870: FutureWarning: The default value of `n_init` will change from 10 to 'auto' in 1.4. Set the value of `n_init` explicitly to suppress the warning\n",
            "  warnings.warn(\n",
            "/home/codespace/.local/lib/python3.10/site-packages/sklearn/cluster/_kmeans.py:870: FutureWarning: The default value of `n_init` will change from 10 to 'auto' in 1.4. Set the value of `n_init` explicitly to suppress the warning\n",
            "  warnings.warn(\n",
            "/home/codespace/.local/lib/python3.10/site-packages/sklearn/cluster/_kmeans.py:870: FutureWarning: The default value of `n_init` will change from 10 to 'auto' in 1.4. Set the value of `n_init` explicitly to suppress the warning\n",
            "  warnings.warn(\n",
            "/home/codespace/.local/lib/python3.10/site-packages/sklearn/cluster/_kmeans.py:870: FutureWarning: The default value of `n_init` will change from 10 to 'auto' in 1.4. Set the value of `n_init` explicitly to suppress the warning\n",
            "  warnings.warn(\n",
            "/home/codespace/.local/lib/python3.10/site-packages/sklearn/cluster/_kmeans.py:870: FutureWarning: The default value of `n_init` will change from 10 to 'auto' in 1.4. Set the value of `n_init` explicitly to suppress the warning\n",
            "  warnings.warn(\n",
            "/home/codespace/.local/lib/python3.10/site-packages/sklearn/cluster/_kmeans.py:870: FutureWarning: The default value of `n_init` will change from 10 to 'auto' in 1.4. Set the value of `n_init` explicitly to suppress the warning\n",
            "  warnings.warn(\n",
            "/home/codespace/.local/lib/python3.10/site-packages/sklearn/cluster/_kmeans.py:870: FutureWarning: The default value of `n_init` will change from 10 to 'auto' in 1.4. Set the value of `n_init` explicitly to suppress the warning\n",
            "  warnings.warn(\n"
          ]
        },
        {
          "data": {
            "image/png": "[encoded data removed]",
            "text/plain": [
              "<Figure size 640x480 with 1 Axes>"
            ]
          },
          "metadata": {},
          "output_type": "display_data"
        },
        {
          "name": "stderr",
          "output_type": "stream",
          "text": [
            "Bad pipe message: %s [b'\\x00\\xfe\\x0bS\\xda\\xcev+\\xd3\\xadW\\xc3D', b'\\xd6J\\xc0 &\\xed\\xbc\\xe9\\xc9g\\xd0\\x97\\xd9\\xcb\\xc5\\xb3*\\xbc\\xbar\\x88>)', b'\\xba\\xbd\\x93\\xa1Vq\\x9d;\\x1d\\xeeh\\x00\\x08\\x13\\x02\\x13\\x03\\x13\\x01\\x00\\xff\\x01\\x00\\x00\\x8f\\x00\\x00\\x00\\x0e\\x00\\x0c\\x00\\x00\\t127.0.0.1\\x00\\x0b\\x00\\x04\\x03\\x00\\x01\\x02\\x00\\n\\x00\\x0c\\x00\\n\\x00\\x1d\\x00\\x17\\x00\\x1e\\x00\\x19\\x00\\x18\\x00#\\x00\\x00\\x00\\x16\\x00\\x00\\x00\\x17\\x00\\x00\\x00\\r\\x00\\x1e\\x00\\x1c\\x04\\x03\\x05\\x03\\x06\\x03\\x08\\x07\\x08\\x08\\x08']\n",
            "Bad pipe message: %s [b'\\n\\x08\\x0b\\x08\\x04\\x08\\x05\\x08']\n",
            "Bad pipe message: %s [b'\\x05\\t\\xb3W\\x9c\\x84ah-\\tGm\\xb3L\\xc1_FS \\xec\\xad\\xb5\\x0f\\xf8\\xc0\\x88$\\xfd\\xc3\\xf8\\xb7\\x00#\\xd7\\xa2\\xfd\\xaf\\xcdZ\\xd10\\xdd\\xb7\\xd1g\\xa3\\x93\\xce\\xc9\\t\\x15\\x00\\x08\\x13\\x02\\x13\\x03\\x13\\x01\\x00\\xff\\x01\\x00\\x00\\x8f\\x00\\x00\\x00\\x0e\\x00', b'\\x00\\t127.0.0.1']\n",
            "Bad pipe message: %s [b'\\xca R\\x14\\xd6&\\xe6\\x02\\x8b\\xfd\\xf8\\xfd\\\\\\x9b7\\xd9K\\xac\\x00\\x00|\\xc0,\\xc00\\x00\\xa3\\x00\\x9f\\xcc\\xa9\\xcc\\xa8\\xcc\\xaa\\xc0\\xaf\\xc0\\xad\\xc0\\xa3\\xc0\\x9f\\xc0]\\xc0a\\xc0W\\xc0S\\xc0+', b\"\\x00\\xa2\\x00\\x9e\\xc0\\xae\\xc0\\xac\\xc0\\xa2\\xc0\\x9e\\xc0\\\\\\xc0`\\xc0V\\xc0R\\xc0$\\xc0(\\x00k\\x00j\\xc0#\\xc0'\\x00g\\x00@\\xc0\\n\\xc0\\x14\\x009\\x008\\xc0\\t\\xc0\\x13\\x003\\x002\\x00\\x9d\\xc0\\xa1\\xc0\\x9d\\xc0Q\\x00\\x9c\\xc0\\xa0\\xc0\\x9c\\xc0P\\x00=\\x00<\\x005\\x00/\\x00\\x9a\\x00\\x99\\xc0\\x07\\xc0\\x11\\x00\\x96\\x00\\x05\\x00\\xff\\x01\\x00\\x00j\\x00\\x00\\x00\\x0e\\x00\\x0c\\x00\\x00\\t127.0.0.1\\x00\\x0b\\x00\\x04\\x03\\x00\\x01\\x02\\x00\\n\\x00\\x0c\\x00\\n\\x00\\x1d\\x00\\x17\\x00\\x1e\\x00\\x19\\x00\\x18\\x00#\\x00\\x00\\x00\\x16\\x00\\x00\\x00\\x17\\x00\\x00\\x00\\r\\x000\\x00.\\x04\\x03\\x05\\x03\\x06\\x03\\x08\\x07\\x08\\x08\\x08\\t\\x08\\n\\x08\\x0b\\x08\\x04\\x08\\x05\\x08\\x06\\x04\\x01\\x05\\x01\\x06\\x01\\x03\\x03\\x02\\x03\\x03\\x01\\x02\\x01\\x03\", b'\\x02']\n",
            "Bad pipe message: %s [b\"\\xeai\\xb2\\x93\\x99\\x8d\\xa6\\x0e\\x8b\\xae^\\x97\\xa3nM\\xce'e\\x00\\x00\\xa6\\xc0,\\xc00\\x00\\xa3\\x00\\x9f\\xcc\\xa9\\xcc\\xa8\\xcc\\xaa\\xc0\\xaf\\xc0\\xad\\xc0\\xa3\\xc0\\x9f\\xc0]\\xc0a\\xc0W\\xc0S\\xc0+\\xc0/\\x00\\xa2\\x00\\x9e\\xc0\\xae\\xc0\\xac\\xc0\\xa2\\xc0\\x9e\\xc0\\\\\\xc0`\\xc0V\\xc0R\\xc0$\\xc0(\\x00k\\x00j\\xc0s\\xc0w\\x00\\xc4\\x00\\xc3\\xc0#\\xc0'\\x00g\\x00@\\xc0r\\xc0v\\x00\\xbe\\x00\\xbd\\xc0\\n\\xc0\\x14\\x009\\x008\\x00\\x88\\x00\\x87\\xc0\\t\\xc0\\x13\\x003\\x002\\x00\\x9a\\x00\\x99\\x00E\\x00D\\xc0\\x07\\xc0\\x11\\xc0\\x08\\xc0\", b'\\x16\\x00\\x13\\x00\\x9d\\xc0\\xa1\\xc0\\x9d\\xc0Q\\x00\\x9c\\xc0\\xa0\\xc0\\x9c']\n",
            "Bad pipe message: %s [b',\\xb2\\xfa\\xdcY\\xfd\\x13\\xce5*\\xd2\\xd2\\xbf\\xf3\\xf8G8\\x15\\x00\\x00>\\xc0\\x14\\xc0\\n\\x009\\x008\\x007\\x006\\xc0\\x0f\\xc0\\x05\\x005\\xc0\\x13\\xc0\\t\\x003\\x002\\x001\\x000\\xc0\\x0e\\xc0\\x04\\x00/\\x00\\x9a\\x00\\x99\\x00\\x98\\x00\\x97\\x00\\x96\\x00\\x07\\xc0']\n",
            "Bad pipe message: %s [b\"\\xda\\xd45\\xfb\\x10\\x10?\\x14\\xfb%EO\\xe9P\\xce\\xbf\\x87\\x8e\\x00\\x00\\xf4\\xc00\\xc0,\\xc0(\\xc0$\\xc0\\x14\\xc0\\n\\x00\\xa5\\x00\\xa3\\x00\\xa1\\x00\\x9f\\x00k\\x00j\\x00i\\x00h\\x009\\x008\\x007\\x006\\x00\\x88\\x00\\x87\\x00\\x86\\x00\\x85\\xc0\\x19\\x00\\xa7\\x00m\\x00:\\x00\\x89\\xc02\\xc0.\\xc0*\\xc0&\\xc0\\x0f\\xc0\\x05\\x00\\x9d\\x00=\\x005\\x00\\x84\\xc0/\\xc0+\\xc0'\\xc0#\\xc0\\x13\\xc0\\t\\x00\\xa4\\x00\\xa2\\x00\\xa0\\x00\\x9e\\x00g\\x00@\\x00?\\x00>\\x003\\x002\\x001\\x000\\x00\\x9a\\x00\\x99\\x00\\x98\\x00\\x97\\x00E\\x00D\\x00C\"]\n",
            "Bad pipe message: %s [b'Z\\xbd\\xf5~vL\\x8f\\x8d\\xea\\xa3\\x9f\\n[\\x12\\xa5k\\xa2\\xed\\x00\\x00\\x86\\xc00\\xc0,\\xc0(\\xc0$\\xc0\\x14\\xc0\\n\\x00\\xa5\\x00\\xa3\\x00\\xa1\\x00\\x9f\\x00k\\x00j\\x00i\\x00h\\x009\\x008\\x007\\x006\\xc02\\xc0.\\xc0*\\xc0&\\xc0\\x0f\\xc0\\x05\\x00\\x9d\\x00=']\n",
            "Bad pipe message: %s [b'\\xc8\\x1b\\x8a\\x81\\xe3(\\x10\\x8d\\x8dv\\x82\\x0f\\xf5\\xd6\\xb0\\xbak\\xc0\\x00\\x00\\xa2\\xc0\\x14\\xc0\\n\\x009\\x008\\x007\\x006\\x00\\x88\\x00\\x87\\x00\\x86\\x00\\x85\\xc0\\x19\\x00:\\x00\\x89\\xc0\\x0f\\xc0\\x05\\x005\\x00\\x84\\xc0\\x13\\xc0\\t\\x003\\x002\\x001\\x000\\x00\\x9a\\x00\\x99\\x00\\x98\\x00\\x97\\x00E\\x00D\\x00C\\x00B\\xc0\\x18\\x004\\x00\\x9b\\x00F\\xc0\\x0e\\xc0\\x04\\x00/\\x00\\x96\\x00A\\x00\\x07\\xc0\\x11\\xc0\\x07\\xc0\\x16\\x00\\x18\\xc0\\x0c\\xc0\\x02\\x00\\x05\\x00\\x04\\xc0\\x12\\xc0\\x08\\x00\\x16\\x00\\x13\\x00\\x10\\x00\\r\\xc0\\x17\\x00\\x1b\\xc0\\r\\xc0\\x03\\x00\\n\\x00\\x15\\x00\\x12\\x00\\x0f\\x00\\x0c\\x00\\x1a\\x00\\t\\x00\\x14\\x00\\x11\\x00\\x19\\x00\\x08\\x00\\x06\\x00\\x17\\x00\\x03\\xc0\\x10\\xc0\\x06\\xc0\\x15\\xc0\\x0b\\xc0\\x01\\x00\\x02\\x00\\x01\\x00\\xff\\x02\\x01\\x00\\x00C\\x00\\x00\\x00\\x0e\\x00\\x0c\\x00\\x00\\t127.0.0.1\\x00\\x0b\\x00\\x04\\x03\\x00\\x01\\x02\\x00\\n\\x00\\x1c\\x00\\x1a\\x00\\x17\\x00\\x19\\x00\\x1c\\x00\\x1b\\x00\\x18\\x00\\x1a\\x00\\x16\\x00\\x0e\\x00\\r\\x00\\x0b\\x00\\x0c\\x00\\t\\x00', b'#\\x00\\x00\\x00\\x0f\\x00\\x01\\x01\\x15']\n",
            "Bad pipe message: %s [b'\\xea\\xbd\\x1a\\x82\\t\\xb8\\x0bQW\\x87&\\x82\\x89\\x8a8\\xe3\\x10\\x8b\\x00\\x00\\xa2\\xc0\\x14\\xc0\\n\\x009\\x008\\x007\\x006\\x00\\x88\\x00\\x87\\x00\\x86\\x00\\x85\\xc0\\x19\\x00:\\x00\\x89\\xc0\\x0f\\xc0\\x05\\x005\\x00\\x84\\xc0\\x13\\xc0\\t\\x003\\x002\\x001\\x000\\x00\\x9a\\x00\\x99\\x00\\x98\\x00\\x97\\x00E\\x00D\\x00C\\x00B\\xc0\\x18\\x004\\x00\\x9b\\x00F\\xc0\\x0e\\xc0\\x04\\x00/\\x00\\x96']\n",
            "Bad pipe message: %s [b'\\x01\\x05\\x01\\x06\\x01']\n",
            "Bad pipe message: %s [b'\\x07\\xc0\\x0c\\xc0\\x02\\x00\\x05\\x00\\x04\\x00\\xff\\x02\\x01\\x00\\x00C']\n",
            "Bad pipe message: %s [b'\\x05\\x02\\x06']\n"
          ]
        }
      ],
      "source": [
        "wcss=[]\n",
        "for i in range(1,11):\n",
        "  kmeans = KMeans(n_clusters=i, init='k-means++', random_state=42)\n",
        "  kmeans.fit(X)\n",
        "  wcss.append(kmeans.inertia_)\n",
        "\n",
        "plt.plot(range(1, 11), wcss)\n",
        "plt.title('Elbow Method')\n",
        "plt.xlabel('Number of clusters')\n",
        "plt.ylabel('WCSS')\n",
        "plt.show()"
      ]
    },
    {
      "cell_type": "markdown",
      "metadata": {
        "id": "I1zU5DJnn2LO"
      },
      "source": [
        "As shown in the graph above, the elbow point is 3. Therefore, the appropriate number of clusters to use is 3."
      ]
    },
    {
      "cell_type": "code",
      "execution_count": null,
      "metadata": {
        "id": "BXKBKeHqm6gP"
      },
      "outputs": [],
      "source": []
    }
  ],
  "metadata": {
    "colab": {
      "provenance": []
    },
    "kernelspec": {
      "display_name": "Python 3",
      "name": "python3"
    },
    "language_info": {
      "codemirror_mode": {
        "name": "ipython",
        "version": 3
      },
      "file_extension": ".py",
      "mimetype": "text/x-python",
      "name": "python",
      "nbconvert_exporter": "python",
      "pygments_lexer": "ipython3",
      "version": "3.10.4"
    }
  },
  "nbformat": 4,
  "nbformat_minor": 0
}
